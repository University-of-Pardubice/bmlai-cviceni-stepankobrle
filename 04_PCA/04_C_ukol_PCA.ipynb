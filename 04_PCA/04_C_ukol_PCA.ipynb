{
 "cells": [
  {
   "cell_type": "markdown",
   "id": "efd730e4-0565-4b7e-8caf-cfe8b527b655",
   "metadata": {},
   "source": [
    "# Analýza hlavních komponent\n",
    "\n",
    "## Úkol\n",
    "\n",
    "- V datasetu Portland Housing Prices/Sales Jul 2020 - Jul 2021 zjistěte, jestli je zde problém multikolinearity.\n",
    "- Proveďte analyzu hlavních komponent\n",
    "- Vytvořte lineární model z PCA a model porovnejte s minulým cvičením"
   ]
  },
  {
   "cell_type": "markdown",
   "id": "b4c81f14",
   "metadata": {},
   "source": [
    "# Načtení dat"
   ]
  },
  {
   "cell_type": "code",
   "execution_count": 1,
   "id": "52750eb3-4b2f-4673-b750-2f2e824da62b",
   "metadata": {
    "tags": []
   },
   "outputs": [],
   "source": [
    "import pandas as pd "
   ]
  },
  {
   "cell_type": "code",
   "execution_count": 2,
   "id": "17d43105-a5d6-44a6-99a8-4d6a6af286df",
   "metadata": {
    "tags": []
   },
   "outputs": [],
   "source": [
    "data = pd.read_csv (\"..\\dataset\\portland_filtered.csv\",  sep=';')"
   ]
  },
  {
   "cell_type": "code",
   "execution_count": 3,
   "id": "ef447466",
   "metadata": {},
   "outputs": [
    {
     "data": {
      "text/html": [
       "<div>\n",
       "<style scoped>\n",
       "    .dataframe tbody tr th:only-of-type {\n",
       "        vertical-align: middle;\n",
       "    }\n",
       "\n",
       "    .dataframe tbody tr th {\n",
       "        vertical-align: top;\n",
       "    }\n",
       "\n",
       "    .dataframe thead th {\n",
       "        text-align: right;\n",
       "    }\n",
       "</style>\n",
       "<table border=\"1\" class=\"dataframe\">\n",
       "  <thead>\n",
       "    <tr style=\"text-align: right;\">\n",
       "      <th></th>\n",
       "      <th>bathrooms</th>\n",
       "      <th>bedrooms</th>\n",
       "      <th>livingArea</th>\n",
       "      <th>age</th>\n",
       "      <th>price</th>\n",
       "    </tr>\n",
       "  </thead>\n",
       "  <tbody>\n",
       "    <tr>\n",
       "      <th>0</th>\n",
       "      <td>3</td>\n",
       "      <td>5</td>\n",
       "      <td>3470</td>\n",
       "      <td>7</td>\n",
       "      <td>1165000</td>\n",
       "    </tr>\n",
       "    <tr>\n",
       "      <th>1</th>\n",
       "      <td>4</td>\n",
       "      <td>5</td>\n",
       "      <td>3374</td>\n",
       "      <td>85</td>\n",
       "      <td>1050000</td>\n",
       "    </tr>\n",
       "    <tr>\n",
       "      <th>2</th>\n",
       "      <td>3</td>\n",
       "      <td>3</td>\n",
       "      <td>3265</td>\n",
       "      <td>20</td>\n",
       "      <td>442500</td>\n",
       "    </tr>\n",
       "    <tr>\n",
       "      <th>3</th>\n",
       "      <td>3</td>\n",
       "      <td>3</td>\n",
       "      <td>3192</td>\n",
       "      <td>36</td>\n",
       "      <td>765000</td>\n",
       "    </tr>\n",
       "    <tr>\n",
       "      <th>4</th>\n",
       "      <td>3</td>\n",
       "      <td>4</td>\n",
       "      <td>3157</td>\n",
       "      <td>73</td>\n",
       "      <td>815000</td>\n",
       "    </tr>\n",
       "  </tbody>\n",
       "</table>\n",
       "</div>"
      ],
      "text/plain": [
       "   bathrooms  bedrooms  livingArea  age    price\n",
       "0          3         5        3470    7  1165000\n",
       "1          4         5        3374   85  1050000\n",
       "2          3         3        3265   20   442500\n",
       "3          3         3        3192   36   765000\n",
       "4          3         4        3157   73   815000"
      ]
     },
     "execution_count": 3,
     "metadata": {},
     "output_type": "execute_result"
    }
   ],
   "source": [
    "data.head()"
   ]
  },
  {
   "cell_type": "markdown",
   "id": "e6f65264",
   "metadata": {},
   "source": [
    "# Analýza\n",
    "- zobrazte data\n",
    "- vyřešte NaN hodnoty\n",
    "- zobrazte základní statistiky dat\n",
    "- zobrazte korelační matici"
   ]
  },
  {
   "cell_type": "code",
   "execution_count": 14,
   "id": "1f99f363",
   "metadata": {},
   "outputs": [],
   "source": [
    "\n",
    "import matplotlib.pyplot as plt\n",
    "import seaborn as sns\n"
   ]
  },
  {
   "cell_type": "code",
   "execution_count": 5,
   "id": "85821315",
   "metadata": {},
   "outputs": [],
   "source": [
    "df = pd.DataFrame(data)"
   ]
  },
  {
   "cell_type": "code",
   "execution_count": 6,
   "id": "4c1420e8",
   "metadata": {},
   "outputs": [
    {
     "name": "stdout",
     "output_type": "stream",
     "text": [
      "Data:\n",
      "    bathrooms  bedrooms  livingArea  age    price\n",
      "0           3         5        3470    7  1165000\n",
      "1           4         5        3374   85  1050000\n",
      "2           3         3        3265   20   442500\n",
      "3           3         3        3192   36   765000\n",
      "4           3         4        3157   73   815000\n",
      "..        ...       ...         ...  ...      ...\n",
      "95          1         3         838   72   250000\n",
      "96          1         2         832   47   260000\n",
      "97          1         2         812   46   220000\n",
      "98          1         2         810   97   546500\n",
      "99          1         1         766   83   370000\n",
      "\n",
      "[100 rows x 5 columns]\n"
     ]
    }
   ],
   "source": [
    "# Zobrazení dat\n",
    "print(\"Data:\")\n",
    "print(df)"
   ]
  },
  {
   "cell_type": "code",
   "execution_count": 7,
   "id": "7ee7353d",
   "metadata": {},
   "outputs": [],
   "source": [
    "# Řešení NaN hodnot (není potřeba v tomto datasetu)\n",
    "if df.isnull().values.any():\n",
    "    print(\"\\nChybějící hodnoty byly nahrazeny průměrem příslušného sloupce.\")\n",
    "    df.fillna(df.mean(), inplace=True)"
   ]
  },
  {
   "cell_type": "code",
   "execution_count": 8,
   "id": "4a248010",
   "metadata": {},
   "outputs": [
    {
     "name": "stdout",
     "output_type": "stream",
     "text": [
      "\n",
      "Základní statistiky:\n",
      "        bathrooms    bedrooms   livingArea        age         price\n",
      "count  100.000000  100.000000   100.000000  100.00000  1.000000e+02\n",
      "mean     2.380000    3.260000  1974.080000   49.88000  5.196074e+05\n",
      "std      0.838228    0.860115   663.629851   32.77973  1.722241e+05\n",
      "min      1.000000    1.000000   766.000000    3.00000  1.650000e+05\n",
      "25%      2.000000    3.000000  1530.000000   20.00000  4.125000e+05\n",
      "50%      2.000000    3.000000  1859.000000   47.50000  5.000000e+05\n",
      "75%      3.000000    4.000000  2490.250000   75.25000  5.995312e+05\n",
      "max      5.000000    6.000000  3470.000000  114.00000  1.165000e+06\n"
     ]
    }
   ],
   "source": [
    "# Základní statistiky\n",
    "print(\"\\nZákladní statistiky:\")\n",
    "print(df.describe())"
   ]
  },
  {
   "cell_type": "code",
   "execution_count": 9,
   "id": "2d24b8b1",
   "metadata": {},
   "outputs": [],
   "source": [
    "# Korelační matice\n",
    "correlation_matrix = df.corr()"
   ]
  },
  {
   "cell_type": "code",
   "execution_count": 15,
   "id": "41204e43",
   "metadata": {},
   "outputs": [
    {
     "data": {
      "image/png": "[encoded data removed]",
      "text/plain": [
       "<Figure size 800x600 with 2 Axes>"
      ]
     },
     "metadata": {},
     "output_type": "display_data"
    }
   ],
   "source": [
    "# Vizualizace korelační matice pomocí teplotní mapy\n",
    "plt.figure(figsize=(8, 6))\n",
    "sns.heatmap(correlation_matrix, annot=True, cmap='coolwarm', fmt='.2f')\n",
    "plt.title('Korelační matice')\n",
    "plt.show()"
   ]
  },
  {
   "cell_type": "markdown",
   "id": "bec6c849",
   "metadata": {},
   "source": [
    "# Příprava dat\n",
    "- vyberte X promenné bathrooms', 'bedrooms', 'livingArea','age','price'\n",
    "- proměnné standardizujte"
   ]
  },
  {
   "cell_type": "code",
   "execution_count": 24,
   "id": "c4bb6361",
   "metadata": {},
   "outputs": [],
   "source": [
    "\n",
    "import pandas as pd"
   ]
  },
  {
   "cell_type": "code",
   "execution_count": 16,
   "id": "c753d253",
   "metadata": {},
   "outputs": [],
   "source": [
    "df = pd.DataFrame(data)"
   ]
  },
  {
   "cell_type": "code",
   "execution_count": 17,
   "id": "cbdb2238",
   "metadata": {},
   "outputs": [],
   "source": [
    "# Výběr X proměnných\n",
    "X = df[['bathrooms', 'bedrooms', 'livingArea', 'age', 'price']]"
   ]
  },
  {
   "cell_type": "code",
   "execution_count": 22,
   "id": "29b027fc",
   "metadata": {},
   "outputs": [],
   "source": [
    "\n",
    "# Standardizace pomocí pandas\n",
    "df_standardized = (df - df.mean()) / df.std()"
   ]
  },
  {
   "cell_type": "code",
   "execution_count": 23,
   "id": "4701409c",
   "metadata": {},
   "outputs": [
    {
     "name": "stdout",
     "output_type": "stream",
     "text": [
      "Standardizovaná data:\n",
      "    bathrooms  bedrooms  livingArea       age     price\n",
      "0    0.739656  2.022985    2.254148 -1.308125  3.747400\n",
      "1    1.932648  2.022985    2.109489  1.071394  3.079666\n",
      "2    0.739656 -0.302285    1.945241 -0.911539 -0.447715\n",
      "3    0.739656 -0.302285    1.835240 -0.423432  1.424845\n",
      "4    0.739656  0.860350    1.782500  0.705314  1.715164\n",
      "..        ...       ...         ...       ...       ...\n",
      "95  -1.646330 -0.302285   -1.711918  0.674807 -1.565445\n",
      "96  -1.646330 -1.464920   -1.720959 -0.087859 -1.507381\n",
      "97  -1.646330 -1.464920   -1.751097 -0.118366 -1.739637\n",
      "98  -1.646330 -1.464920   -1.754110  1.437474  0.156149\n",
      "99  -1.646330 -2.627555   -1.820412  1.010380 -0.868678\n",
      "\n",
      "[100 rows x 5 columns]\n"
     ]
    }
   ],
   "source": [
    "print(\"Standardizovaná data:\")\n",
    "print(df_standardized)"
   ]
  },
  {
   "cell_type": "markdown",
   "id": "c8132c2b",
   "metadata": {},
   "source": [
    "# Zobrazte VIF pro každou proměnnou"
   ]
  },
  {
   "cell_type": "code",
   "execution_count": 30,
   "id": "4cc20270",
   "metadata": {},
   "outputs": [],
   "source": [
    "import numpy as np\n",
    "from numpy.linalg import inv"
   ]
  },
  {
   "cell_type": "code",
   "execution_count": 25,
   "id": "68041bda",
   "metadata": {},
   "outputs": [],
   "source": [
    "# Funkce pro výpočet VIF\n",
    "def calculate_vif(X):\n",
    "    X = np.array(X)\n",
    "    vif = []\n",
    "    for i in range(X.shape[1]):  # Opraveno na správný rozsah sloupců\n",
    "        X_i = X[:, i]\n",
    "        X_not_i = np.delete(X, i, axis=1)\n",
    "        R_squared_i = np.corrcoef(X_i, X_not_i @ inv(X_not_i.T @ X_not_i) @ X_not_i.T @ X_i)[0, 1] ** 2\n",
    "        vif.append(1 / (1 - R_squared_i))\n",
    "    return vif\n"
   ]
  },
  {
   "cell_type": "code",
   "execution_count": 31,
   "id": "c2c3baee",
   "metadata": {},
   "outputs": [],
   "source": [
    "# Výpočet VIF\n",
    "X = df.values\n",
    "vif_values = calculate_vif(X)"
   ]
  },
  {
   "cell_type": "code",
   "execution_count": 32,
   "id": "2f88d462",
   "metadata": {},
   "outputs": [],
   "source": [
    "# Výstup VIF hodnot\n",
    "vif_data = pd.DataFrame({\n",
    "    'Variable': df.columns,\n",
    "    'VIF': vif_values\n",
    "})"
   ]
  },
  {
   "cell_type": "code",
   "execution_count": 33,
   "id": "be7a80a0",
   "metadata": {},
   "outputs": [
    {
     "name": "stdout",
     "output_type": "stream",
     "text": [
      "VIF pro každou proměnnou:\n",
      "     Variable       VIF\n",
      "0   bathrooms  2.618202\n",
      "1    bedrooms  1.911230\n",
      "2  livingArea  3.239817\n",
      "3         age  1.347452\n",
      "4       price  2.548419\n"
     ]
    }
   ],
   "source": [
    "print(\"VIF pro každou proměnnou:\")\n",
    "print(vif_data)"
   ]
  },
  {
   "cell_type": "markdown",
   "id": "e1412474",
   "metadata": {},
   "source": [
    "# PCA\n",
    "- Proveďte PCA\n",
    "- zobrazte korelační matici"
   ]
  },
  {
   "cell_type": "code",
   "execution_count": 45,
   "id": "b4b70d1c",
   "metadata": {},
   "outputs": [],
   "source": [
    "from sklearn.decomposition import PCA\n",
    "from sklearn.preprocessing import StandardScaler"
   ]
  },
  {
   "cell_type": "code",
   "execution_count": 71,
   "id": "df0490d0",
   "metadata": {},
   "outputs": [],
   "source": [
    "scaler = StandardScaler()\n",
    "X_standardized = scaler.fit_transform(df)\n"
   ]
  },
  {
   "cell_type": "code",
   "execution_count": 72,
   "id": "afd38ade",
   "metadata": {},
   "outputs": [],
   "source": [
    "pca = PCA(n_components=2)\n",
    "X_pca = pca.fit_transform(X_standardized)\n",
    "\n",
    "# Vytvoření DataFrame s hlavními komponentami\n",
    "df_pca = pd.DataFrame(X_pca, columns=['PC1', 'PC2'])\n"
   ]
  },
  {
   "cell_type": "code",
   "execution_count": 73,
   "id": "be9393c8",
   "metadata": {},
   "outputs": [],
   "source": [
    "correlation_matrix_pca = df_pca.corr()"
   ]
  },
  {
   "cell_type": "code",
   "execution_count": 74,
   "id": "7f37b907",
   "metadata": {},
   "outputs": [
    {
     "data": {
      "image/png": "[encoded data removed]",
      "text/plain": [
       "<Figure size 800x600 with 2 Axes>"
      ]
     },
     "metadata": {},
     "output_type": "display_data"
    }
   ],
   "source": [
    "plt.figure(figsize=(8, 6))\n",
    "sns.heatmap(correlation_matrix_pca, annot=True, cmap='coolwarm', fmt='.2f')\n",
    "plt.title('Korelační matice PCA komponent')\n",
    "plt.show()"
   ]
  },
  {
   "cell_type": "markdown",
   "id": "5d5d82c8",
   "metadata": {},
   "source": [
    "# Lineární model\n",
    "- Vytvořte a natrénujte Lineární model pro PCA proměnné\n",
    "- Zobrazte R2 a RMSE"
   ]
  },
  {
   "cell_type": "code",
   "execution_count": 55,
   "id": "d93f75a1",
   "metadata": {},
   "outputs": [],
   "source": [
    "import pandas as pd\n",
    "from sklearn.decomposition import PCA\n",
    "from sklearn.preprocessing import StandardScaler\n",
    "from sklearn.linear_model import LinearRegression\n",
    "from sklearn.model_selection import train_test_split\n",
    "from sklearn.metrics import mean_squared_error, r2_score\n"
   ]
  },
  {
   "cell_type": "code",
   "execution_count": 57,
   "id": "ac516db0",
   "metadata": {},
   "outputs": [],
   "source": [
    "# Standardize data\n",
    "scaler = StandardScaler()\n",
    "X = df[['bathrooms', 'bedrooms', 'livingArea', 'age']]\n",
    "y = df['price']\n",
    "X_standardized = scaler.fit_transform(X)\n"
   ]
  },
  {
   "cell_type": "code",
   "execution_count": null,
   "id": "d6e45834",
   "metadata": {},
   "outputs": [
    {
     "name": "stdout",
     "output_type": "stream",
     "text": [
      "R²: 0.56\n",
      "RMSE: 132005.83\n"
     ]
    }
   ],
   "source": [
    "# Provedení PCA (redukce dimenzionality na dvě hlavní komponenty)\n",
    "pca = PCA(n_components=2)\n",
    "X_pca = pca.fit_transform(X_standardized)\n",
    "df_pca = pd.DataFrame(X_pca, columns=['PC1', 'PC2'])\n",
    "\n",
    "# Rozdělení dat na trénovací (80 %) a testovací (20 %) sadu\n",
    "X_train, X_test, y_train, y_test = train_test_split(df_pca, y, test_size=0.2, random_state=42)\n",
    "\n",
    "# Vytvoření lineárního regresního modelu\n",
    "model = LinearRegression()\n",
    "\n",
    "# Trénování modelu na trénovací sadě\n",
    "model.fit(X_train, y_train)\n",
    "\n",
    "# Predikce na testovací sadě\n",
    "y_pred = model.predict(X_test)\n",
    "\n",
    "# Výpočet metrik R² a RMSE\n",
    "r2 = r2_score(y_test, y_pred) if len(y_test) > 1 else float('nan')  # Ošetření pro malý počet testovacích dat\n",
    "\n",
    "# Ruční výpočet RMSE (pokud squared=False není podporováno)\n",
    "mse = mean_squared_error(y_test, y_pred)\n",
    "rmse = np.sqrt(mse)\n",
    "\n",
    "print(f\"R²: {r2:.2f}\")\n",
    "print(f\"RMSE: {rmse:.2f}\")"
   ]
  }
 ],
 "metadata": {
  "kernelspec": {
   "display_name": "Python 3",
   "language": "python",
   "name": "python3"
  },
  "language_info": {
   "codemirror_mode": {
    "name": "ipython",
    "version": 3
   },
   "file_extension": ".py",
   "mimetype": "text/x-python",
   "name": "python",
   "nbconvert_exporter": "python",
   "pygments_lexer": "ipython3",
   "version": "3.9.13"
  }
 },
 "nbformat": 4,
 "nbformat_minor": 5
}
